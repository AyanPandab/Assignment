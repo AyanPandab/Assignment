{
  "nbformat": 4,
  "nbformat_minor": 0,
  "metadata": {
    "colab": {
      "provenance": []
    },
    "kernelspec": {
      "name": "python3",
      "display_name": "Python 3"
    },
    "language_info": {
      "name": "python"
    }
  },
  "cells": [
    {
      "cell_type": "code",
      "execution_count": null,
      "metadata": {
        "id": "WdclEmfXtzJY"
      },
      "outputs": [],
      "source": [
        "#  Q1. Create a Pandas Series that contains the following data: 4, 8, 15, 16, 23, and 42. Then, print the series.\n",
        "\n",
        "import pandas as pd\n",
        "data = [4, 8, 15, 16, 23, 42]\n",
        "series = pd.Series(data)\n",
        "print(series)\n"
      ]
    },
    {
      "cell_type": "code",
      "source": [
        "#Q2. Create a variable of list type containing 10 elements in it, and apply pandas.Series function on the\n",
        "variable print it.\n",
        "import pandas as pd\n",
        "\n",
        "# Create a list with 10 elements\n",
        "my_list = [1, 2, 3, 4, 5, 6, 7, 8, 9, 10]\n",
        "\n",
        "# Convert the list to a Pandas Series\n",
        "my_series = pd.Series(my_list)\n",
        "\n",
        "# Print the Pandas Series\n",
        "print(my_series)\n"
      ],
      "metadata": {
        "id": "9gdFOp3ut9p2"
      },
      "execution_count": null,
      "outputs": []
    },
    {
      "cell_type": "code",
      "source": [
        "#Q3. Create a Pandas DataFrame that contains the following data:\n",
        "\n",
        "#Then, print the DataFrame.\n",
        "import pandas as pd\n",
        "\n",
        "# Define the data\n",
        "data = {\n",
        "    \"Name\": [\"Alice\", \"Bob\", \"Claire\"],\n",
        "    \"Age\": [25, 30, 27],\n",
        "    \"Gender\": [\"Female\", \"Male\", \"Female\"]\n",
        "}\n",
        "\n",
        "# Create the DataFrame\n",
        "df = pd.DataFrame(data)\n",
        "\n",
        "# Print the DataFrame\n",
        "print(df)\n"
      ],
      "metadata": {
        "id": "9njD8lq7ueNF"
      },
      "execution_count": null,
      "outputs": []
    },
    {
      "cell_type": "code",
      "source": [
        "#  Q4. What is ‘DataFrame’ in pandas and how is it different from pandas.series? Explain with an example.\n",
        "\n",
        "import pandas as pd\n",
        "\n",
        "# A Pandas DataFrame is a 2-dimensional labeled data structure, like a table with rows and columns.\n",
        "# It can store different data types (numeric, string, boolean, etc.) in each column.\n",
        "\n",
        "# Example DataFrame\n",
        "data = {'Name': ['Alice', 'Bob', 'Charlie'],\n",
        "        'Age': [25, 32, 28],\n",
        "        'City': ['New York', 'Los Angeles', 'Chicago']}\n",
        "df = pd.DataFrame(data)\n",
        "print(\"DataFrame:\\n\", df)\n",
        "\n",
        "# A Pandas Series is a 1-dimensional labeled array that can hold any data type.\n",
        "# It's like a single column of a DataFrame.\n",
        "\n",
        "# Example Series\n",
        "ages = pd.Series([25, 32, 28], name='Age')\n",
        "print(\"\\nSeries:\\n\", ages)\n",
        "\n",
        "# Key differences:\n",
        "# - DataFrame is 2D (table-like), Series is 1D (column-like)\n",
        "# - DataFrame can store multiple data types in different columns, Series stores a single data type\n"
      ],
      "metadata": {
        "id": "-yjl4-jGu5vH"
      },
      "execution_count": null,
      "outputs": []
    },
    {
      "cell_type": "code",
      "source": [
        "#  What are some common functions you can use to manipulate data in a Pandas DataFrame? Can\n",
        "# you give an example of when you might use one of these functions?\n",
        "\n",
        "# Common functions for manipulating Pandas DataFrames:\n",
        "\n",
        "# 1. head() and tail():\n",
        "#    - head(n) displays the first n rows of the DataFrame.\n",
        "#    - tail(n) displays the last n rows of the DataFrame.\n",
        "#    - Useful for quickly inspecting the beginning or end of a large dataset.\n",
        "\n",
        "print(\"First 3 rows:\\n\", df.head(3))\n",
        "print(\"\\nLast 2 rows:\\n\", df.tail(2))\n",
        "\n",
        "# 2. describe():\n",
        "#    - Generates descriptive statistics (count, mean, std, min, max, quartiles) for numerical columns.\n",
        "#    - Helps understand the distribution of numerical data.\n",
        "\n",
        "print(\"\\nDescriptive statistics:\\n\", df.describe())\n",
        "\n",
        "# 3. sort_values():\n",
        "#    - Sorts the DataFrame by one or more columns.\n",
        "#    - Useful for arranging data in a specific order.\n",
        "\n",
        "print(\"\\nSorted by Age:\\n\", df.sort_values('Age'))\n",
        "\n",
        "# 4. groupby():\n",
        "#    - Groups the DataFrame by one or more columns, allowing for aggregate calculations on each group.\n",
        "#    - Example: Calculate the average age for each city.\n",
        "\n",
        "print(\"\\nAverage age by city:\\n\", df.groupby('City')['Age'].mean())\n",
        "\n",
        "# 5. loc and iloc:\n",
        "#    - loc: Accesses data by labels (row and column names).\n",
        "#    - iloc: Accesses data by integer positions (row and column indices).\n",
        "#    - Useful for selecting specific rows and columns.\n",
        "\n",
        "print(\"\\nRow with label 'Bob':\\n\", df.loc[df['Name'] == 'Bob'])\n",
        "print(\"\\nFirst row and first two columns:\\n\", df.iloc[0, :2])\n",
        "\n",
        "# 6. apply():\n",
        "#    - Applies a function to each element, row, or column of the DataFrame.\n",
        "#    - Example: Convert all names to uppercase.\n",
        "\n",
        "df['Name'] = df['Name'].apply(str.upper)\n",
        "print(\"\\nNames in uppercase:\\n\", df)\n"
      ],
      "metadata": {
        "id": "uKoFtU3Qu5ru"
      },
      "execution_count": null,
      "outputs": []
    },
    {
      "cell_type": "code",
      "source": [
        "# Q6. Which of the following is mutable in nature Series, DataFrame, Panel?\n",
        "\n",
        "import pandas as pd\n",
        "# Both Series and DataFrames are mutable in nature.\n",
        "\n",
        "# Example demonstrating mutability of Series:\n",
        "my_series = pd.Series([1, 2, 3])\n",
        "my_series[0] = 10  # Modifying an element\n",
        "print(my_series)  # Output shows the change\n",
        "\n",
        "# Example demonstrating mutability of DataFrame:\n",
        "df = pd.DataFrame({'A': [1, 2], 'B': [3, 4]})\n",
        "df['A'][0] = 100  # Modifying a cell\n",
        "print(df)  # Output shows the change\n",
        "\n",
        "# Panels were deprecated in Pandas version 0.20.1 and removed in version 1.0.0.\n",
        "# They were 3-dimensional data structures, and were also mutable.\n"
      ],
      "metadata": {
        "id": "nkYrnZlRu5pG"
      },
      "execution_count": null,
      "outputs": []
    },
    {
      "cell_type": "code",
      "source": [
        "#  Create a DataFrame using multiple Series. Explain with an example.\n",
        "\n",
        "import pandas as pd\n",
        "\n",
        "# Create individual Series\n",
        "names = pd.Series(['Alice', 'Bob', 'Charlie'])\n",
        "ages = pd.Series([25, 30, 28])\n",
        "cities = pd.Series(['New York', 'Los Angeles', 'Chicago'])\n",
        "\n",
        "# Combine Series into a DataFrame\n",
        "df = pd.DataFrame({'Name': names, 'Age': ages, 'City': cities})\n",
        "\n",
        "print(df)\n"
      ],
      "metadata": {
        "id": "52Ob4Owtu5mX"
      },
      "execution_count": null,
      "outputs": []
    }
  ]
}